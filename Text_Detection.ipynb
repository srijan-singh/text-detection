{
  "nbformat": 4,
  "nbformat_minor": 0,
  "metadata": {
    "colab": {
      "name": "Text-Detection.ipynb",
      "provenance": [],
      "authorship_tag": "ABX9TyM/RiVl+Yf80Q66AaIh2RSa",
      "include_colab_link": true
    },
    "kernelspec": {
      "name": "python3",
      "display_name": "Python 3"
    },
    "language_info": {
      "name": "python"
    },
    "accelerator": "GPU"
  },
  "cells": [
    {
      "cell_type": "markdown",
      "metadata": {
        "id": "view-in-github",
        "colab_type": "text"
      },
      "source": [
        "<a href=\"https://colab.research.google.com/github/srijan-singh/text-detection/blob/main/Text_Detection.ipynb\" target=\"_parent\"><img src=\"https://colab.research.google.com/assets/colab-badge.svg\" alt=\"Open In Colab\"/></a>"
      ]
    },
    {
      "cell_type": "code",
      "execution_count": null,
      "metadata": {
        "id": "AZcjGmf-GVH6",
        "cellView": "form"
      },
      "outputs": [],
      "source": [
        "#@title Install Depenedencies\n",
        "!pip install easyocr\n",
        "!pip uninstall opencv-python-headless\n",
        "!pip install opencv-python-headless==4.1.2.30\n",
        "\n",
        "import matplotlib.pyplot as plt\n",
        "import cv2\n",
        "import easyocr\n",
        "from pylab import rcParams\n",
        "from IPython.display import Image\n",
        "from IPython.display import clear_output\n",
        "\n",
        "reader = easyocr.Reader([\"en\", \"hi\"])\n",
        "clear_output()"
      ]
    },
    {
      "cell_type": "code",
      "source": [
        "#@title Upload Image\n",
        "from google.colab import files\n",
        "uploaded = files.upload()\n",
        "\n",
        "for user_image in uploaded.keys():\n",
        "  print('User uploaded file \"{name}\" with length {length} bytes'.format(name=user_image, length=len(uploaded[user_image])))\n",
        "\n",
        "clear_output()\n",
        "image = user_image\n",
        "Image(image)"
      ],
      "metadata": {
        "id": "PXGzNVkAIay2",
        "cellView": "form"
      },
      "execution_count": null,
      "outputs": []
    },
    {
      "cell_type": "code",
      "source": [
        "#@title Get Text\n",
        "output = reader.readtext(image)\n",
        "\n",
        "text_file = open(\"code.txt\",\"w+\")\n",
        "\n",
        "for i in output:\n",
        "  print(i[-2])\n",
        "  text_file.write(i[-2]+\"\\n\")\n",
        "\n",
        "text_file.close()"
      ],
      "metadata": {
        "id": "FOwsEFfIIy0N",
        "cellView": "form"
      },
      "execution_count": null,
      "outputs": []
    },
    {
      "cell_type": "code",
      "source": [
        "#@title Download Text\n",
        "\n",
        "from google.colab import files\n",
        "\n",
        "files.download(\"/content/code.txt\")"
      ],
      "metadata": {
        "cellView": "form",
        "id": "ih37Kuw5PC4f"
      },
      "execution_count": null,
      "outputs": []
    }
  ]
}